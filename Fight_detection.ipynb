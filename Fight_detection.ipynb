{
  "nbformat": 4,
  "nbformat_minor": 0,
  "metadata": {
    "colab": {
      "provenance": [],
      "gpuType": "T4"
    },
    "kernelspec": {
      "name": "python3",
      "display_name": "Python 3"
    },
    "language_info": {
      "name": "python"
    },
    "accelerator": "GPU"
  },
  "cells": [
    {
      "cell_type": "code",
      "execution_count": 1,
      "metadata": {
        "id": "NYN5_i-7zaiO"
      },
      "outputs": [],
      "source": [
        "from __future__ import absolute_import\n",
        "from __future__  import division\n",
        "from __future__ import print_function\n",
        "import tensorflow as tf\n",
        "import numpy as np\n",
        "from skimage.io import imread\n",
        "from skimage.transform import resize\n",
        "import cv2\n",
        "import numpy as np\n",
        "import os\n",
        "from PIL import Image\n",
        "from io import BytesIO\n",
        "import time"
      ]
    },
    {
      "cell_type": "code",
      "source": [
        "from tensorflow.python.client import device_lib\n",
        "print(device_lib.list_local_devices())"
      ],
      "metadata": {
        "colab": {
          "base_uri": "https://localhost:8080/"
        },
        "id": "-AI4U86-z2LZ",
        "outputId": "53c14170-1319-42dc-bd8b-6570a3b52034"
      },
      "execution_count": 2,
      "outputs": [
        {
          "output_type": "stream",
          "name": "stdout",
          "text": [
            "[name: \"/device:CPU:0\"\n",
            "device_type: \"CPU\"\n",
            "memory_limit: 268435456\n",
            "locality {\n",
            "}\n",
            "incarnation: 17366027053323534033\n",
            "xla_global_id: -1\n",
            ", name: \"/device:GPU:0\"\n",
            "device_type: \"GPU\"\n",
            "memory_limit: 14626652160\n",
            "locality {\n",
            "  bus_id: 1\n",
            "  links {\n",
            "  }\n",
            "}\n",
            "incarnation: 5527916039863557318\n",
            "physical_device_desc: \"device: 0, name: Tesla T4, pci bus id: 0000:00:04.0, compute capability: 7.5\"\n",
            "xla_global_id: 416903419\n",
            "]\n"
          ]
        }
      ]
    },
    {
      "cell_type": "code",
      "source": [
        "print(tf. __version__)"
      ],
      "metadata": {
        "colab": {
          "base_uri": "https://localhost:8080/"
        },
        "id": "T1s2_yLcz6pb",
        "outputId": "096f2f68-7dde-4cc0-c153-d383624700b9"
      },
      "execution_count": 3,
      "outputs": [
        {
          "output_type": "stream",
          "name": "stdout",
          "text": [
            "2.15.0\n"
          ]
        }
      ]
    },
    {
      "cell_type": "code",
      "source": [
        "def mamon_videoFightModel2(tf, wight='/content/drive/MyDrive/archive (2)/mamonbest947oscombo-drive.hdfs'):\n",
        "    layers = tf.keras.layers\n",
        "    models = tf.keras.models\n",
        "    losses = tf.keras.losses\n",
        "    optimizers = tf.keras.optimizers\n",
        "    metrics = tf.keras.metrics\n",
        "    num_classes = 2\n",
        "\n",
        "    np.random.seed(1234)\n",
        "    vg19 = tf.keras.applications.vgg19.VGG19\n",
        "    base_model = vg19(include_top=False, weights='imagenet', input_shape=(160, 160, 3))\n",
        "\n",
        "    cnn = models.Sequential()\n",
        "    cnn.add(base_model)\n",
        "    cnn.add(layers.Flatten())\n",
        "\n",
        "    model = models.Sequential()\n",
        "\n",
        "    model.add(layers.TimeDistributed(cnn, input_shape=(30, 160, 160, 3)))\n",
        "    model.add(layers.LSTM(30, return_sequences=True))\n",
        "\n",
        "    model.add(layers.TimeDistributed(layers.Dense(90)))\n",
        "    model.add(layers.Dropout(0.1))\n",
        "\n",
        "    model.add(layers.GlobalAveragePooling1D())\n",
        "\n",
        "    model.add(layers.Dense(512, activation='relu'))\n",
        "    model.add(layers.Dropout(0.3))\n",
        "\n",
        "    model.add(layers.Dense(num_classes, activation=\"sigmoid\"))\n",
        "\n",
        "    adam = optimizers.Adam(lr=0.0005, beta_1=0.9, beta_2=0.999, epsilon=1e-08)\n",
        "    model.load_weights(wight)\n",
        "    rms = optimizers.RMSprop()\n",
        "\n",
        "    model.compile(loss='binary_crossentropy', optimizer=adam, metrics=[\"accuracy\"])\n",
        "\n",
        "    return model\n"
      ],
      "metadata": {
        "id": "t0zFVZV51gQE"
      },
      "execution_count": 4,
      "outputs": []
    },
    {
      "cell_type": "code",
      "source": [
        "import numpy as np\n",
        "from skimage.transform import resize\n",
        "import tensorflow as tf\n",
        "\n",
        "np.random.seed(1234)\n",
        "\n",
        "# Assuming mamon_videoFightModel2 is your model definition\n",
        "# If you have not defined it in the provided code, replace it with your actual model definition\n",
        "model22 = mamon_videoFightModel2(tf)\n",
        "\n",
        "# Define your learning rate\n",
        "your_learning_rate = 0.001  # Replace with your desired learning rate\n",
        "\n",
        "# Update the optimizer creation by replacing lr with learning_rate\n",
        "optimizer = tf.keras.optimizers.Adam(learning_rate=your_learning_rate)\n",
        "\n",
        "# Compile the model with the updated optimizer\n",
        "model22.compile(optimizer=optimizer, loss='your_loss_function', metrics=['accuracy'])\n"
      ],
      "metadata": {
        "colab": {
          "base_uri": "https://localhost:8080/"
        },
        "id": "LKOWpIEc2UJe",
        "outputId": "75f40c11-7559-4d50-f778-eb0508e8a7f7"
      },
      "execution_count": 5,
      "outputs": [
        {
          "output_type": "stream",
          "name": "stdout",
          "text": [
            "Downloading data from https://storage.googleapis.com/tensorflow/keras-applications/vgg19/vgg19_weights_tf_dim_ordering_tf_kernels_notop.h5\n",
            "80134624/80134624 [==============================] - 0s 0us/step\n"
          ]
        },
        {
          "output_type": "stream",
          "name": "stderr",
          "text": [
            "WARNING:absl:`lr` is deprecated in Keras optimizer, please use `learning_rate` or use the legacy optimizer, e.g.,tf.keras.optimizers.legacy.Adam.\n"
          ]
        }
      ]
    },
    {
      "cell_type": "code",
      "source": [
        "def video_mamonreader(cv2, filename):\n",
        "    frames = np.zeros((30, 160, 160, 3), dtype=np.float)\n",
        "    i = 0\n",
        "    print(frames.shape)\n",
        "    vc = cv2.VideoCapture(filename)\n",
        "    if vc.isOpened():\n",
        "        rval, frame = vc.read()\n",
        "    else:\n",
        "        rval = False\n",
        "    frm = resize(frame, (160, 160, 3))\n",
        "    frm = np.expand_dims(frm, axis=0)\n",
        "    if np.max(frm) > 1:\n",
        "        frm = frm / 255.0\n",
        "    frames[i][:] = frm\n",
        "    i += 1\n",
        "    print(\"reading video\")\n",
        "    while i < 30:\n",
        "        rval, frame = vc.read()\n",
        "        frm = resize(frame, (160, 160, 3))\n",
        "        frm = np.expand_dims(frm, axis=0)\n",
        "        if np.max(frm) > 1:\n",
        "            frm = frm / 255.0\n",
        "        frames[i][:] = frm\n",
        "        i += 1\n",
        "    return frames\n"
      ],
      "metadata": {
        "id": "haN6dlrn-cIE"
      },
      "execution_count": 6,
      "outputs": []
    },
    {
      "cell_type": "code",
      "source": [
        "def pred_fight(model,video,acuracy=0.9):\n",
        "    pred_test = model.predict(video)\n",
        "    if pred_test[0][1] >=acuracy:\n",
        "        return True , pred_test[0][1]\n",
        "    else:\n",
        "        return False , pred_test[0][1]"
      ],
      "metadata": {
        "id": "ae2CfEQJ9pth"
      },
      "execution_count": 7,
      "outputs": []
    },
    {
      "cell_type": "code",
      "source": [
        "def main_fight(vidoss):\n",
        "    vid = video_mamonreader(cv2,vidoss)\n",
        "    datav = np.zeros((1, 30, 160, 160, 3), dtype=np.float)\n",
        "    datav[0][:][:] = vid\n",
        "    millis = int(round(time.time() * 1000))\n",
        "    print(millis)\n",
        "    f , precent = pred_fight(model22,datav,acuracy=0.65)\n",
        "    millis2 = int(round(time.time() * 1000))\n",
        "    print(millis2)\n",
        "    res_mamon = {'fight':f , 'precentegeoffight':str(precent)}\n",
        "    res_mamon['processing_time'] =  str(millis2-millis)\n",
        "    return res_mamon"
      ],
      "metadata": {
        "id": "EbvfUp5S-69p"
      },
      "execution_count": 8,
      "outputs": []
    },
    {
      "cell_type": "code",
      "source": [
        "res = main_fight('/content/drive/MyDrive/archive (2)/hdfight.mp4')"
      ],
      "metadata": {
        "colab": {
          "base_uri": "https://localhost:8080/"
        },
        "id": "Kyie_ZkM-67C",
        "outputId": "ef16b4b6-0d2c-4cba-86a8-73d94b3cb5f2"
      },
      "execution_count": 9,
      "outputs": [
        {
          "output_type": "stream",
          "name": "stderr",
          "text": [
            "<ipython-input-6-2c48fbaa3a55>:2: DeprecationWarning: `np.float` is a deprecated alias for the builtin `float`. To silence this warning, use `float` by itself. Doing this will not modify any behavior and is safe. If you specifically wanted the numpy scalar type, use `np.float64` here.\n",
            "Deprecated in NumPy 1.20; for more details and guidance: https://numpy.org/devdocs/release/1.20.0-notes.html#deprecations\n",
            "  frames = np.zeros((30, 160, 160, 3), dtype=np.float)\n"
          ]
        },
        {
          "output_type": "stream",
          "name": "stdout",
          "text": [
            "(30, 160, 160, 3)\n",
            "reading video\n"
          ]
        },
        {
          "output_type": "stream",
          "name": "stderr",
          "text": [
            "<ipython-input-8-478a310bb81f>:3: DeprecationWarning: `np.float` is a deprecated alias for the builtin `float`. To silence this warning, use `float` by itself. Doing this will not modify any behavior and is safe. If you specifically wanted the numpy scalar type, use `np.float64` here.\n",
            "Deprecated in NumPy 1.20; for more details and guidance: https://numpy.org/devdocs/release/1.20.0-notes.html#deprecations\n",
            "  datav = np.zeros((1, 30, 160, 160, 3), dtype=np.float)\n"
          ]
        },
        {
          "output_type": "stream",
          "name": "stdout",
          "text": [
            "1705491875024\n",
            "1/1 [==============================] - 6s 6s/step\n",
            "1705491881211\n"
          ]
        }
      ]
    },
    {
      "cell_type": "code",
      "source": [
        "res"
      ],
      "metadata": {
        "colab": {
          "base_uri": "https://localhost:8080/"
        },
        "id": "jN-upynV-64b",
        "outputId": "34b4fce4-dcdd-4107-d863-6db6fcf29d14"
      },
      "execution_count": 10,
      "outputs": [
        {
          "output_type": "execute_result",
          "data": {
            "text/plain": [
              "{'fight': True, 'precentegeoffight': '0.98410726', 'processing_time': '6187'}"
            ]
          },
          "metadata": {},
          "execution_count": 10
        }
      ]
    },
    {
      "cell_type": "code",
      "source": [
        "res = main_fight('/content/drive/MyDrive/archive (2)/golsss.mp4')"
      ],
      "metadata": {
        "colab": {
          "base_uri": "https://localhost:8080/"
        },
        "id": "MCQP-NOZ-6wq",
        "outputId": "00ef2818-e17b-4bbe-b580-3ed3b791905d"
      },
      "execution_count": 11,
      "outputs": [
        {
          "output_type": "stream",
          "name": "stderr",
          "text": [
            "<ipython-input-6-2c48fbaa3a55>:2: DeprecationWarning: `np.float` is a deprecated alias for the builtin `float`. To silence this warning, use `float` by itself. Doing this will not modify any behavior and is safe. If you specifically wanted the numpy scalar type, use `np.float64` here.\n",
            "Deprecated in NumPy 1.20; for more details and guidance: https://numpy.org/devdocs/release/1.20.0-notes.html#deprecations\n",
            "  frames = np.zeros((30, 160, 160, 3), dtype=np.float)\n"
          ]
        },
        {
          "output_type": "stream",
          "name": "stdout",
          "text": [
            "(30, 160, 160, 3)\n",
            "reading video\n",
            "1705491896349\n",
            "1/1 [==============================] - 0s 27ms/step\n"
          ]
        },
        {
          "output_type": "stream",
          "name": "stderr",
          "text": [
            "<ipython-input-8-478a310bb81f>:3: DeprecationWarning: `np.float` is a deprecated alias for the builtin `float`. To silence this warning, use `float` by itself. Doing this will not modify any behavior and is safe. If you specifically wanted the numpy scalar type, use `np.float64` here.\n",
            "Deprecated in NumPy 1.20; for more details and guidance: https://numpy.org/devdocs/release/1.20.0-notes.html#deprecations\n",
            "  datav = np.zeros((1, 30, 160, 160, 3), dtype=np.float)\n"
          ]
        },
        {
          "output_type": "stream",
          "name": "stdout",
          "text": [
            "1705491896559\n"
          ]
        }
      ]
    },
    {
      "cell_type": "code",
      "source": [
        "res"
      ],
      "metadata": {
        "colab": {
          "base_uri": "https://localhost:8080/"
        },
        "id": "4yXCjLuX_TWK",
        "outputId": "d8e3c217-2daf-4e41-d06f-840e13f0c00a"
      },
      "execution_count": 12,
      "outputs": [
        {
          "output_type": "execute_result",
          "data": {
            "text/plain": [
              "{'fight': False, 'precentegeoffight': '0.009675611', 'processing_time': '210'}"
            ]
          },
          "metadata": {},
          "execution_count": 12
        }
      ]
    },
    {
      "cell_type": "code",
      "source": [],
      "metadata": {
        "id": "qnJsPHAL_UmL"
      },
      "execution_count": null,
      "outputs": []
    }
  ]
}